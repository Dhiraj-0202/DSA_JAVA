{
 "cells": [
  {
   "cell_type": "markdown",
   "id": "c01bc69e-55ca-4015-bef5-8c3c77833890",
   "metadata": {},
   "source": [
    "<div align=\"center\" style=\"font-size:30px;color:green\" >Personalized Nutrition Recommendation Engine</div>\n",
    "<span style=\"color:purple;align:center\">\n",
    "<h4><pre style=\"color:purple\">                          a. Create Binary Search Tree for dietary profiles</pre></h4>\n",
    "<h4><pre style=\"color:purple\">                          b. Implement nutritional requirement matching</pre></h4>\n",
    "<h4><pre style=\"color:purple\">                          c. Support meal planning and dietary restrictions</pre></h4></span>"
   ]
  },
  {
   "cell_type": "markdown",
   "id": "de2135fb-5d26-4f52-8dc1-aa9da7985a4c",
   "metadata": {},
   "source": [
    "<h2>Introduction</h2>\n",
    "<ul>\n",
    "<li><b>Customized Dietary Suggestions:</b> The application gives an individual's tailored meal recommendations according to the person's nutritional requirement.\n",
    "<li><b>Implemented in Java:</b> It is developed using Java for efficient data handling and processing.</li>\n",
    "<li><b>Binary Search Tree (BST) for Dietary Profiles:</b> Uses BST to store and retrieve user dietary profiles efficiently.</li>\n",
    "<li><b>Nutritional Requirement Matching:</b> It ensures that the meals meet specific nutritional needs based on user data.</li>\n",
    "<li><b>Supports Meal Planning & Dietary Restrictions:</b> Offers a variety of dietary preferences, allergies, and health conditions.</li>\n",
    "<li><b>Promotes Healthy Eating Habits:</b> It would encourage a healthy and balanced lifestyle through tailored nutrition.</li>\n",
    "</ul>"
   ]
  },
  {
   "cell_type": "markdown",
   "id": "40b3864e-fdb1-4f8a-b7d0-2ced58cf9632",
   "metadata": {},
   "source": [
    "<h4>Why only Binary Search Tree (BST)?</h4>\n",
    "<p>A Binary Search Tree (BST) is chosen for managing dietary profiles due to its efficient search, insertion, and deletion operations, making it ideal for handling large sets of nutritional data.</p>\n",
    "<ol>\n",
    "    <li>Efficient Data Retrieval</li>\n",
    "    <li>Structured Organization of Data</li>\n",
    "    <li>Dynamic Meal Planning</li>\n",
    "    <li>Handling Large Datasets</li>\n",
    "    <li>Customizable Searches</li>\n",
    "</ol>"
   ]
  },
  {
   "cell_type": "markdown",
   "id": "aebf22a6-2489-4d79-813e-88f21f5d26db",
   "metadata": {},
   "source": [
    "<h4>Why Binary Search Tree (BST) better than Other Data Structures in this project?</h4>\n",
    "<ul>\n",
    "    <li><b>Faster searching:</b> Unlike an unsorted array or linked list (O(n)), BST allows searching in O(log n) time.</li>\n",
    "    <li><b>Efficient insertions & deletions:</b> Unlike arrays that require shifting elements, BST allows O(log n) insertion and deletion</li>\n",
    "    <li><b>Scalability:</b> BST dynamically grows without predefined size limitations.</li>\n",
    "</ul>"
   ]
  },
  {
   "cell_type": "markdown",
   "id": "0a54bf32-a6a2-46bc-8727-58523c7ba127",
   "metadata": {},
   "source": [
    "<h4>OOPS concept used in this project</h4>\n",
    "<ol>\n",
    "    <li><b>Encapsulation</b><ul><li>Dietary profiles, user data, and meal plans are encapsulated within separate classes.</li><li>Private attributes and public getter/setter methods protect data integrity.</li></ul></li>\n",
    "    <li><b>Inheritance</b><ul><li>A base class (e.g., UserProfile) can be extended by subclasses like VeganUser, DiabeticUser, etc.</li><li>This allows specialization based on dietary needs while reusing common properties.</li></ul></li>\n",
    "    <li><b>Polymorphism</b><ul><li>Different user types (e.g., Vegetarian, Keto, Gluten-Free) can override a common method like generateMealPlan(), providing customized recommendations for each diet.</li></ul></li>\n",
    "</ol>"
   ]
  },
  {
   "cell_type": "markdown",
   "id": "f50677ec-d71f-4f40-a726-80d7328cc2fd",
   "metadata": {},
   "source": [
    "<h4>How Binary Search Tree (BST) Works in this project?</h4>\n",
    "<ul>\n",
    "    <li>Each node in the BST represents a user’s dietary profile, containing information such as:<ul><li>User ID</li><li>Age, BMI, and health conditions</li><li>Dietary preferences (vegan, keto, gluten-free, etc.)</li><li>Recommended daily calorie intake</li></ul></li>\n",
    "    <li>When a user requests a personalized meal plan, the system searches for their profile in the BST.<ul><li>The search follows BST properties:</li><li>If the target calorie intake is less than the current node, move to the left child.</li><li>If greater, move to the right child.</li><li>If a match is found, retrieve the dietary profile and generate recommendations.</li></ul></li>\n",
    "    <li>When a new user registers, their profile is added to the BST while maintaining the sorted order.<br>The system traverses the tree based on calorie needs (or another key) and inserts the new profile at the correct position.</li>\n",
    "    <li>If a user updates their dietary preferences, the system either:<ul><li>Finds and updates the existing profile.</li><li>Deletes and reinserts it with modified data if the sorting key changes.</li></ul></li>\n",
    "    <li>In-order traversal of BST retrieves dietary profiles in sorted order, allowing:<ul><li>Range-based meal recommendations (e.g., find all users needing between 1500-2000 kcal).</li><li>Customized meal suggestions based on similar user profiles.</li></ul></li>\n",
    "</ul>"
   ]
  },
  {
   "cell_type": "markdown",
   "id": "85d32ffd-82a1-4635-90dc-9053113416f1",
   "metadata": {},
   "source": [
    "<h3>CODE STRUCTURE</h3>\n",
    "<h3>1.Objects</h3>\n",
    "        <ul>\n",
    "            <li>MyDietaryProfile – Represents an individual user's dietary information.</li>\n",
    "            <li>MyDietaryProfileBST – Stores and manages user profiles using a Binary Search Tree.</li>\n",
    "            <li>MyNutritionalRequirementMatcher – Matches a user’s profile with ideal nutritional intake.</li>\n",
    "            <li>MyMeal - It will contian meal data</li>\n",
    "            <li>MyMealPlanner – Creates meal plans based on dietary restrictions and preferences.</li>\n",
    "            <li>MyMain – Controls the program’s flow and user interactions.</li>\n",
    "        </ul>\n",
    "        \n",
    "<h3>2.Classes</h3>\n",
    "        <ul>\n",
    "            <li>DietaryProfile – Represents a user’s dietary profile. Used as a node in the BST.</li>\n",
    "            <li>DietaryProfileBST – A Binary Search Tree for storing and retrieving user dietary profiles.</li>\n",
    "            <li>NutritionalRequirementMatcher – Matches a user’s nutritional needs with their actual intake.</li>\n",
    "            <li>Meal - Stores the data of meal</li>\n",
    "            <li>MealPlanner – Generates meal plans based on dietary restrictions and preferences.</li>\n",
    "            <li>Main – Driver class that controls the execution of the application.</li>\n",
    "        </ul>\n",
    "        \n",
    "<h3>3.Methods and functions</h3>\n",
    "        \n",
    "<h4>Methods in DietaryProfile</h4>\n",
    "        <ul>\n",
    "            <li>DietaryProfile() – Constructor to initialize profile details.</li>\n",
    "            <li>displayDietaryProfile() – Displays a user’s profile information.</li>\n",
    "        </ul>\n",
    "        \n",
    "<h4>Methods in DietaryProfileBST</h4>\n",
    "        <ul>\n",
    "            <li>insertProfile() – Inserts a profile into BST.</li>\n",
    "            <li>searchProfile() – Searches for a profile in BST.</li>\n",
    "            <li>deleteProfile() – Deletes a profile from BST.</li>\n",
    "        </ul>\n",
    "        \n",
    "<h4>Methods in NutritionalRequirementMatcher</h4>\n",
    "        <ul>\n",
    "            <li>GetMatchingMeals()</li>\n",
    "        </ul>\n",
    "        \n",
    "<h4>Methods in MealPlanner</h4>\n",
    "        <ul>\n",
    "           <li>GenerateMealPlan()</li>\n",
    "        </ul>\n",
    "        \n",
    "<h3>4.Attributes</h3>\n",
    "        \n",
    "<h4>Attributes in DietaryProfile</h4>\n",
    "<p>userId,age,weight,height,dietaryPreference,etc.,</p>\n",
    "        \n",
    "<h4>Attributes in DietaryProfileBST</h4>\n",
    "<p>DietaryProfile root</p>\n",
    "\n",
    "<h4>Attributes in NutritionalRequirementMatcher</h4>\n",
    "<p>MealDatabase(list),MatchedMeals(list)</p>\n",
    "\n",
    "<h4>Attributes in MealPlanner</h4>\n",
    "<p>BreakfastMeal(list),LunchMeal(list),DinnerMeal(list)</p>"
   ]
  },
  {
   "cell_type": "markdown",
   "id": "560f258b-3e40-4a87-ad70-4263d4f1bdba",
   "metadata": {},
   "source": [
    "<div>\n",
    "    <h3>Team Members</h3>\n",
    "    <pre>CB.SC.U4AIE24039-Peddi Deekshith\n",
    "CB.SC.U4AIE24050-S Dheeraj\n",
    "CB.SC.U4AIE24051-Simma Sathwik\n",
    "CB.SC.U4AIE24052-S.V.Dhiraj\n",
    "    </pre>\n",
    "</div>"
   ]
  },
  {
   "cell_type": "code",
   "execution_count": null,
   "id": "db69e78b-ee55-450c-bd00-60230698329b",
   "metadata": {},
   "outputs": [],
   "source": []
  }
 ],
 "metadata": {
  "kernelspec": {
   "display_name": "Python 3 (ipykernel)",
   "language": "python",
   "name": "python3"
  },
  "language_info": {
   "codemirror_mode": {
    "name": "ipython",
    "version": 3
   },
   "file_extension": ".py",
   "mimetype": "text/x-python",
   "name": "python",
   "nbconvert_exporter": "python",
   "pygments_lexer": "ipython3",
   "version": "3.12.7"
  }
 },
 "nbformat": 4,
 "nbformat_minor": 5
}
